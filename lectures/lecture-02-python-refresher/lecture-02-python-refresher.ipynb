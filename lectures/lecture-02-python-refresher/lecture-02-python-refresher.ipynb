{
 "cells": [
  {
   "cell_type": "markdown",
   "metadata": {
    "slideshow": {
     "slide_type": "subslide"
    }
   },
   "source": [
    "How to turn this notebook into slides? Run:\n",
    "```\n",
    "$ ipython nbconvert --to slides lecture.ipynb  --post serve\n",
    "```\n",
    "OR (better), install the RISE Jupyter extension:\n",
    "```\n",
    "conda install -c damianavila82 rise\n",
    "```\n",
    "and hit the 'Slideshow' toolbar button."
   ]
  },
  {
   "cell_type": "markdown",
   "metadata": {
    "slideshow": {
     "slide_type": "skip"
    }
   },
   "source": [
    "This notebook uses the [python-markdown](http://jupyter-contrib-nbextensions.readthedocs.io/en/latest/nbextensions/python-markdown/readme.html) extension, allowing it to run code inline with Markdown text.\n",
    "\n",
    "To install this extension, and the [configurator GUI](https://github.com/Jupyter-contrib/jupyter_nbextensions_configurator), while Jupyter is ***not*** running run:\n",
    "```bash\n",
    "conda install -c defaults -c conda-forge jupyter_contrib_nbextensions\n",
    "conda install -c defaults -c conda-forge jupyter_nbextensions_configurator\n",
    "```\n",
    "and then enable python-markdown in the `Nbextensions` tab that will show up next time you start Jupyter."
   ]
  },
  {
   "cell_type": "markdown",
   "metadata": {
    "slideshow": {
     "slide_type": "skip"
    }
   },
   "source": [
    "To have the markup in all cells show up in this notebook, you need to mark it as 'Trusted'. The notebook will be marked as trusted once you re-evaluate all cells."
   ]
  },
  {
   "cell_type": "markdown",
   "metadata": {
    "slideshow": {
     "slide_type": "skip"
    }
   },
   "source": [
    "Some helper functions to make it easier to show code listings."
   ]
  },
  {
   "cell_type": "code",
   "execution_count": 19,
   "metadata": {
    "slideshow": {
     "slide_type": "skip"
    }
   },
   "outputs": [],
   "source": [
    "### takes in filename(fn) and opens the file 'fn', reads it (.read) formats it into a string and then returns it as a markdown, and allow jupyter to display it\n",
    "def show_code_listing(fn):\n",
    "    from IPython.display import display, Markdown\n",
    "    return Markdown( '```python\\n{}\\n```'.format(open(fn).read()))\n",
    "\n",
    "### take ins commanline (cmdline) and bang(!) or runs it as if it were not in the jupyter notebook but as if it were on the command line\n",
    "def execute_and_show(cmdline):\n",
    "    from IPython.display import display, Markdown\n",
    "    res = ! $cmdline         ###runs the command line\n",
    "    res = '\\n'.join(['    ' + line for line in res])         ###returns to the screen... i think\n",
    "    print('```bash\\n    ${}\\n{}\\n```'.format(cmdline, res))"
   ]
  },
  {
   "cell_type": "markdown",
   "metadata": {
    "slideshow": {
     "slide_type": "slide"
    }
   },
   "source": [
    "# A Walk Through Python\n",
    "\n",
    "In this lecture we will work through a series of hands-on exercizes to (re-)familiarize ourselves with Python.\n",
    "\n",
    "We'll learn by doing:\n",
    "\n",
    "0. Read up on the general topic __in advance__ of the class, so that in class we can:\n",
    "1. Define a problem needing a solution.\n",
    "2. Write a short Python program that solves it.\n",
    "3. Discuss the result.\n",
    "\n",
    "We'll divide into small teams, and then each team will work on a solution."
   ]
  },
  {
   "cell_type": "markdown",
   "metadata": {
    "slideshow": {
     "slide_type": "slide"
    }
   },
   "source": [
    "## A Pragmatic Approach to Programming\n",
    "\n",
    "I prefer a _pragmatic_ approach to solving programming problems (more accurately: how to solve _research_ problems by programming). Your first task is not to re-invent the wheel -- seek out existing solutions to your problem, and adopt them as much as you can. The literature is your friend.\n",
    "\n",
    "Some \"what should I do in this situation\" examples:\n",
    "\n",
    "* \"Hmm, I'm not familiar with that concept...\" &nbsp; => &nbsp; Google it first.\n",
    "* \"Has anyone already done this?\" &nbsp; => &nbsp; Google for something similar. Copy it (but ***respect the license!***). Modify to make it work for you.\n",
    "* \"Where is the best place to look?\" &nbsp; Stackoverflow [https://stackoverflow.com/questions/tagged/python]\n",
    "* \"Let me try a prototype to understand the problem better.\" &nbsp; => &nbsp; It's OK to take a stab; you'll probably rewrite it anyway.\n",
    "* \"What's that function `foo()` again?\" &nbsp; => &nbsp; Google, or use Python's `help()` or `?` system\n",
    "* \"I should really talk to someone...\" &nbsp; => &nbsp; When you get stuck, it's OK to discuss problems.\n",
    "\n",
    "Knowing how to discover information is a key part in being effective in programming problems in research."
   ]
  },
  {
   "cell_type": "code",
   "execution_count": 14,
   "metadata": {},
   "outputs": [],
   "source": [
    "list??"
   ]
  },
  {
   "cell_type": "markdown",
   "metadata": {
    "slideshow": {
     "slide_type": "slide"
    }
   },
   "source": [
    "## How to approach problems\n",
    "\n",
    "1. Make sure you understand the problem (i.e., ask questions if something's not clear).\n",
    "2. Use search engines, documentation, books to learn what you need to develop a solution\n",
    "3. Develop a solution\n",
    "\n",
    "... and do the above _iteratively_ (i.e., there may be a first prototype, followed by by more questions/understanding of what needs to be done, followed by more learning, followed by the next prototype, etc.)"
   ]
  },
  {
   "cell_type": "markdown",
   "metadata": {
    "slideshow": {
     "slide_type": "slide"
    },
    "variables": {
     " execute_and_show('./prog1.py') ": "<pre><code class=\"cm-s-ipython language-bash\">    $./prog1.py\n    Hello world!\n</code></pre>\n"
    }
   },
   "source": [
    "## Problem 1: Hello World!\n",
    "\n",
    "Write a Python program that one can run on the command line and that results in:\n",
    "{{ execute_and_show('./prog1.py') }}"
   ]
  },
  {
   "cell_type": "markdown",
   "metadata": {
    "slideshow": {
     "slide_type": "subslide"
    }
   },
   "source": [
    "## Implementation"
   ]
  },
  {
   "cell_type": "code",
   "execution_count": 17,
   "metadata": {},
   "outputs": [
    {
     "data": {
      "text/markdown": [
       "```python\n",
       "#!/usr/bin/env python\n",
       "\n",
       "print (\"Hello world!\")\n",
       "\n",
       "```"
      ],
      "text/plain": [
       "<IPython.core.display.Markdown object>"
      ]
     },
     "execution_count": 17,
     "metadata": {},
     "output_type": "execute_result"
    }
   ],
   "source": [
    "### prints out the actual written code\n",
    "show_code_listing(\"prog1.py\")\n",
    "\n",
    "### first line says i want to run it with python, also allows to run the program without being in python; the '#' is what is telling it to execute in this case and the '!'(bang) tells it to run it on the command line\n",
    "### second is what is going to happen"
   ]
  },
  {
   "cell_type": "markdown",
   "metadata": {
    "collapsed": true
   },
   "source": [
    "Discussion:\n",
    "* We specify the interpreter with the `#!` line.\n",
    "* The file must be marked as executable to run (`chmod +x prog1.py`)\n",
    "* Use the `print()` function to show output."
   ]
  },
  {
   "cell_type": "code",
   "execution_count": 22,
   "metadata": {},
   "outputs": [
    {
     "name": "stdout",
     "output_type": "stream",
     "text": [
      "```bash\n",
      "    $prog1.py\n",
      "    /bin/bash: prog1.py: command not found\n",
      "```\n",
      "```bash\n",
      "    $./prog1.py\n",
      "    Hello world!\n",
      "```\n"
     ]
    }
   ],
   "source": [
    "execute_and_show('prog1.py')\n",
    "### couldn't run because it was not in the correct path\n",
    "### but adding the './' to get the correct path... somehow...\n",
    "execute_and_show('./prog1.py')"
   ]
  },
  {
   "cell_type": "markdown",
   "metadata": {
    "slideshow": {
     "slide_type": "slide"
    },
    "variables": {
     " execute_and_show('./prog2.py foo bar') ": "<pre><code class=\"cm-s-ipython language-bash\">    $./prog2.py foo bar\n    [&#39;./prog2.py&#39;, &#39;foo&#39;, &#39;bar&#39;]\n</code></pre>\n"
    }
   },
   "source": [
    "## Problem 2: Print All Arguments\n",
    "\n",
    "Now modify that code to write out the command line arguments, including the name of the program. For example:\n",
    "{{ execute_and_show('./prog2.py foo bar') }}"
   ]
  },
  {
   "cell_type": "markdown",
   "metadata": {
    "slideshow": {
     "slide_type": "subslide"
    }
   },
   "source": [
    "## Implementation"
   ]
  },
  {
   "cell_type": "code",
   "execution_count": 28,
   "metadata": {},
   "outputs": [
    {
     "data": {
      "text/markdown": [
       "```python\n",
       "#!/usr/bin/env python\n",
       "\n",
       "import sys\n",
       "\n",
       "print (sys.argv)\n",
       "\n",
       "# Better:\n",
       "# print ' '.join(sys.argv)\n",
       "\n",
       "```"
      ],
      "text/plain": [
       "<IPython.core.display.Markdown object>"
      ]
     },
     "execution_count": 28,
     "metadata": {},
     "output_type": "execute_result"
    }
   ],
   "source": [
    "show_code_listing(\"prog2.py\")\n",
    "\n",
    "### import sys, brings is something, all types of system operate type actions\n",
    "### sys.argv, function or argument that contains a list of all commandline arguments, i think\n"
   ]
  },
  {
   "cell_type": "code",
   "execution_count": 29,
   "metadata": {},
   "outputs": [
    {
     "name": "stdout",
     "output_type": "stream",
     "text": [
      "```bash\n",
      "    $./prog2.py 1 2 3 house dog horse 5 6\n",
      "    ['./prog2.py', '1', '2', '3', 'house', 'dog', 'horse', '5', '6']\n",
      "```\n"
     ]
    }
   ],
   "source": [
    "execute_and_show('./prog2.py 1 2 3 house dog horse 5 6')"
   ]
  },
  {
   "cell_type": "code",
   "execution_count": 32,
   "metadata": {},
   "outputs": [],
   "source": [
    "import sys"
   ]
  },
  {
   "cell_type": "code",
   "execution_count": 33,
   "metadata": {
    "collapsed": true
   },
   "outputs": [
    {
     "name": "stdout",
     "output_type": "stream",
     "text": [
      "Help on built-in module sys:\n",
      "\n",
      "NAME\n",
      "    sys\n",
      "\n",
      "MODULE REFERENCE\n",
      "    https://docs.python.org/3.7/library/sys\n",
      "    \n",
      "    The following documentation is automatically generated from the Python\n",
      "    source files.  It may be incomplete, incorrect or include features that\n",
      "    are considered implementation detail and may vary between Python\n",
      "    implementations.  When in doubt, consult the module reference at the\n",
      "    location listed above.\n",
      "\n",
      "DESCRIPTION\n",
      "    This module provides access to some objects used or maintained by the\n",
      "    interpreter and to functions that interact strongly with the interpreter.\n",
      "    \n",
      "    Dynamic objects:\n",
      "    \n",
      "    argv -- command line arguments; argv[0] is the script pathname if known\n",
      "    path -- module search path; path[0] is the script directory, else ''\n",
      "    modules -- dictionary of loaded modules\n",
      "    \n",
      "    displayhook -- called to show results in an interactive session\n",
      "    excepthook -- called to handle any uncaught exception other than SystemExit\n",
      "      To customize printing in an interactive session or to install a custom\n",
      "      top-level exception handler, assign other functions to replace these.\n",
      "    \n",
      "    stdin -- standard input file object; used by input()\n",
      "    stdout -- standard output file object; used by print()\n",
      "    stderr -- standard error object; used for error messages\n",
      "      By assigning other file objects (or objects that behave like files)\n",
      "      to these, it is possible to redirect all of the interpreter's I/O.\n",
      "    \n",
      "    last_type -- type of last uncaught exception\n",
      "    last_value -- value of last uncaught exception\n",
      "    last_traceback -- traceback of last uncaught exception\n",
      "      These three are only available in an interactive session after a\n",
      "      traceback has been printed.\n",
      "    \n",
      "    Static objects:\n",
      "    \n",
      "    builtin_module_names -- tuple of module names built into this interpreter\n",
      "    copyright -- copyright notice pertaining to this interpreter\n",
      "    exec_prefix -- prefix used to find the machine-specific Python library\n",
      "    executable -- absolute path of the executable binary of the Python interpreter\n",
      "    float_info -- a struct sequence with information about the float implementation.\n",
      "    float_repr_style -- string indicating the style of repr() output for floats\n",
      "    hash_info -- a struct sequence with information about the hash algorithm.\n",
      "    hexversion -- version information encoded as a single integer\n",
      "    implementation -- Python implementation information.\n",
      "    int_info -- a struct sequence with information about the int implementation.\n",
      "    maxsize -- the largest supported length of containers.\n",
      "    maxunicode -- the value of the largest Unicode code point\n",
      "    platform -- platform identifier\n",
      "    prefix -- prefix used to find the Python library\n",
      "    thread_info -- a struct sequence with information about the thread implementation.\n",
      "    version -- the version of this interpreter as a string\n",
      "    version_info -- version information as a named tuple\n",
      "    __stdin__ -- the original stdin; don't touch!\n",
      "    __stdout__ -- the original stdout; don't touch!\n",
      "    __stderr__ -- the original stderr; don't touch!\n",
      "    __displayhook__ -- the original displayhook; don't touch!\n",
      "    __excepthook__ -- the original excepthook; don't touch!\n",
      "    \n",
      "    Functions:\n",
      "    \n",
      "    displayhook() -- print an object to the screen, and save it in builtins._\n",
      "    excepthook() -- print an exception and its traceback to sys.stderr\n",
      "    exc_info() -- return thread-safe information about the current exception\n",
      "    exit() -- exit the interpreter by raising SystemExit\n",
      "    getdlopenflags() -- returns flags to be used for dlopen() calls\n",
      "    getprofile() -- get the global profiling function\n",
      "    getrefcount() -- return the reference count for an object (plus one :-)\n",
      "    getrecursionlimit() -- return the max recursion depth for the interpreter\n",
      "    getsizeof() -- return the size of an object in bytes\n",
      "    gettrace() -- get the global debug tracing function\n",
      "    setcheckinterval() -- control how often the interpreter checks for events\n",
      "    setdlopenflags() -- set the flags to be used for dlopen() calls\n",
      "    setprofile() -- set the global profiling function\n",
      "    setrecursionlimit() -- set the max recursion depth for the interpreter\n",
      "    settrace() -- set the global debug tracing function\n",
      "\n",
      "FUNCTIONS\n",
      "    __breakpointhook__ = breakpointhook(...)\n",
      "        breakpointhook(*args, **kws)\n",
      "        \n",
      "        This hook function is called by built-in breakpoint().\n",
      "    \n",
      "    __displayhook__ = displayhook(...)\n",
      "        displayhook(object) -> None\n",
      "        \n",
      "        Print an object to sys.stdout and also save it in builtins._\n",
      "    \n",
      "    __excepthook__ = excepthook(...)\n",
      "        excepthook(exctype, value, traceback) -> None\n",
      "        \n",
      "        Handle an exception by displaying it with a traceback on sys.stderr.\n",
      "    \n",
      "    breakpointhook(...)\n",
      "        breakpointhook(*args, **kws)\n",
      "        \n",
      "        This hook function is called by built-in breakpoint().\n",
      "    \n",
      "    call_tracing(...)\n",
      "        call_tracing(func, args) -> object\n",
      "        \n",
      "        Call func(*args), while tracing is enabled.  The tracing state is\n",
      "        saved, and restored afterwards.  This is intended to be called from\n",
      "        a debugger from a checkpoint, to recursively debug some other code.\n",
      "    \n",
      "    callstats(...)\n",
      "        callstats() -> tuple of integers\n",
      "        \n",
      "        Return a tuple of function call statistics, if CALL_PROFILE was defined\n",
      "        when Python was built.  Otherwise, return None.\n",
      "        \n",
      "        When enabled, this function returns detailed, implementation-specific\n",
      "        details about the number of function calls executed. The return value is\n",
      "        a 11-tuple where the entries in the tuple are counts of:\n",
      "        0. all function calls\n",
      "        1. calls to PyFunction_Type objects\n",
      "        2. PyFunction calls that do not create an argument tuple\n",
      "        3. PyFunction calls that do not create an argument tuple\n",
      "           and bypass PyEval_EvalCodeEx()\n",
      "        4. PyMethod calls\n",
      "        5. PyMethod calls on bound methods\n",
      "        6. PyType calls\n",
      "        7. PyCFunction calls\n",
      "        8. generator calls\n",
      "        9. All other calls\n",
      "        10. Number of stack pops performed by call_function()\n",
      "    \n",
      "    exc_info(...)\n",
      "        exc_info() -> (type, value, traceback)\n",
      "        \n",
      "        Return information about the most recent exception caught by an except\n",
      "        clause in the current stack frame or in an older stack frame.\n",
      "    \n",
      "    exit(...)\n",
      "        exit([status])\n",
      "        \n",
      "        Exit the interpreter by raising SystemExit(status).\n",
      "        If the status is omitted or None, it defaults to zero (i.e., success).\n",
      "        If the status is an integer, it will be used as the system exit status.\n",
      "        If it is another kind of object, it will be printed and the system\n",
      "        exit status will be one (i.e., failure).\n",
      "    \n",
      "    get_asyncgen_hooks(...)\n",
      "        get_asyncgen_hooks()\n",
      "        \n",
      "        Return a namedtuple of installed asynchronous generators hooks (firstiter, finalizer).\n",
      "    \n",
      "    get_coroutine_origin_tracking_depth()\n",
      "        Check status of origin tracking for coroutine objects in this thread.\n",
      "    \n",
      "    get_coroutine_wrapper(...)\n",
      "        get_coroutine_wrapper()\n",
      "        \n",
      "        Return the wrapper for coroutine objects set by sys.set_coroutine_wrapper.\n",
      "    \n",
      "    getallocatedblocks(...)\n",
      "        getallocatedblocks() -> integer\n",
      "        \n",
      "        Return the number of memory blocks currently allocated, regardless of their\n",
      "        size.\n",
      "    \n",
      "    getcheckinterval(...)\n",
      "        getcheckinterval() -> current check interval; see setcheckinterval().\n",
      "    \n",
      "    getdefaultencoding(...)\n",
      "        getdefaultencoding() -> string\n",
      "        \n",
      "        Return the current default string encoding used by the Unicode \n",
      "        implementation.\n",
      "    \n",
      "    getdlopenflags(...)\n",
      "        getdlopenflags() -> int\n",
      "        \n",
      "        Return the current value of the flags that are used for dlopen calls.\n",
      "        The flag constants are defined in the os module.\n",
      "    \n",
      "    getfilesystemencodeerrors(...)\n",
      "        getfilesystemencodeerrors() -> string\n",
      "        \n",
      "        Return the error mode used to convert Unicode filenames in\n",
      "        operating system filenames.\n",
      "    \n",
      "    getfilesystemencoding(...)\n",
      "        getfilesystemencoding() -> string\n",
      "        \n",
      "        Return the encoding used to convert Unicode filenames in\n",
      "        operating system filenames.\n",
      "    \n",
      "    getprofile(...)\n",
      "        getprofile()\n",
      "        \n",
      "        Return the profiling function set with sys.setprofile.\n",
      "        See the profiler chapter in the library manual.\n",
      "    \n",
      "    getrecursionlimit(...)\n",
      "        getrecursionlimit()\n",
      "        \n",
      "        Return the current value of the recursion limit, the maximum depth\n",
      "        of the Python interpreter stack.  This limit prevents infinite\n",
      "        recursion from causing an overflow of the C stack and crashing Python.\n",
      "    \n",
      "    getrefcount(...)\n",
      "        getrefcount(object) -> integer\n",
      "        \n",
      "        Return the reference count of object.  The count returned is generally\n",
      "        one higher than you might expect, because it includes the (temporary)\n",
      "        reference as an argument to getrefcount().\n",
      "    \n",
      "    getsizeof(...)\n",
      "        getsizeof(object, default) -> int\n",
      "        \n",
      "        Return the size of object in bytes.\n",
      "    \n",
      "    getswitchinterval(...)\n",
      "        getswitchinterval() -> current thread switch interval; see setswitchinterval().\n",
      "    \n",
      "    gettrace(...)\n",
      "        gettrace()\n",
      "        \n",
      "        Return the global debug tracing function set with sys.settrace.\n",
      "        See the debugger chapter in the library manual.\n",
      "    \n",
      "    intern(...)\n",
      "        intern(string) -> string\n",
      "        \n",
      "        ``Intern'' the given string.  This enters the string in the (global)\n",
      "        table of interned strings whose purpose is to speed up dictionary lookups.\n",
      "        Return the string itself or the previously interned string object with the\n",
      "        same value.\n",
      "    \n",
      "    is_finalizing(...)\n",
      "        is_finalizing()\n",
      "        Return True if Python is exiting.\n",
      "    \n",
      "    set_asyncgen_hooks(...)\n",
      "        set_asyncgen_hooks(*, firstiter=None, finalizer=None)\n",
      "        \n",
      "        Set a finalizer for async generators objects.\n",
      "    \n",
      "    set_coroutine_origin_tracking_depth(depth)\n",
      "        Enable or disable origin tracking for coroutine objects in this thread.\n",
      "        \n",
      "        Coroutine objects will track 'depth' frames of traceback information about\n",
      "        where they came from, available in their cr_origin attribute. Set depth of 0\n",
      "        to disable.\n",
      "    \n",
      "    set_coroutine_wrapper(...)\n",
      "        set_coroutine_wrapper(wrapper)\n",
      "        \n",
      "        Set a wrapper for coroutine objects.\n",
      "    \n",
      "    setcheckinterval(...)\n",
      "        setcheckinterval(n)\n",
      "        \n",
      "        Tell the Python interpreter to check for asynchronous events every\n",
      "        n instructions.  This also affects how often thread switches occur.\n",
      "    \n",
      "    setdlopenflags(...)\n",
      "        setdlopenflags(n) -> None\n",
      "        \n",
      "        Set the flags used by the interpreter for dlopen calls, such as when the\n",
      "        interpreter loads extension modules.  Among other things, this will enable\n",
      "        a lazy resolving of symbols when importing a module, if called as\n",
      "        sys.setdlopenflags(0).  To share symbols across extension modules, call as\n",
      "        sys.setdlopenflags(os.RTLD_GLOBAL).  Symbolic names for the flag modules\n",
      "        can be found in the os module (RTLD_xxx constants, e.g. os.RTLD_LAZY).\n",
      "    \n",
      "    setprofile(...)\n",
      "        setprofile(function)\n",
      "        \n",
      "        Set the profiling function.  It will be called on each function call\n",
      "        and return.  See the profiler chapter in the library manual.\n",
      "    \n",
      "    setrecursionlimit(...)\n",
      "        setrecursionlimit(n)\n",
      "        \n",
      "        Set the maximum depth of the Python interpreter stack to n.  This\n",
      "        limit prevents infinite recursion from causing an overflow of the C\n",
      "        stack and crashing Python.  The highest possible limit is platform-\n",
      "        dependent.\n",
      "    \n",
      "    setswitchinterval(...)\n",
      "        setswitchinterval(n)\n",
      "        \n",
      "        Set the ideal thread switching delay inside the Python interpreter\n",
      "        The actual frequency of switching threads can be lower if the\n",
      "        interpreter executes long sequences of uninterruptible code\n",
      "        (this is implementation-specific and workload-dependent).\n",
      "        \n",
      "        The parameter must represent the desired switching delay in seconds\n",
      "        A typical value is 0.005 (5 milliseconds).\n",
      "    \n",
      "    settrace(...)\n",
      "        settrace(function)\n",
      "        \n",
      "        Set the global debug tracing function.  It will be called on each\n",
      "        function call.  See the debugger chapter in the library manual.\n",
      "\n",
      "DATA\n",
      "    __stderr__ = <_io.TextIOWrapper name='<stderr>' mode='w' encoding='UTF...\n",
      "    __stdin__ = <_io.TextIOWrapper name='<stdin>' mode='r' encoding='UTF-8...\n",
      "    __stdout__ = <_io.TextIOWrapper name='<stdout>' mode='w' encoding='UTF...\n",
      "    abiflags = 'm'\n",
      "    api_version = 1013\n",
      "    argv = ['/Users/drft/Desktop/ASTRO_302/A302_2019/miniconda3/lib/python...\n",
      "    base_exec_prefix = '/Users/drft/Desktop/ASTRO_302/A302_2019/miniconda3...\n",
      "    base_prefix = '/Users/drft/Desktop/ASTRO_302/A302_2019/miniconda3'\n",
      "    builtin_module_names = ('_abc', '_ast', '_codecs', '_collections', '_f...\n",
      "    byteorder = 'little'\n",
      "    copyright = 'Copyright (c) 2001-2018 Python Software Foundati...ematis...\n",
      "    displayhook = <ipykernel.displayhook.ZMQShellDisplayHook object>\n",
      "    dont_write_bytecode = False\n",
      "    exec_prefix = '/Users/drft/Desktop/ASTRO_302/A302_2019/miniconda3'\n",
      "    executable = '/Users/drft/Desktop/ASTRO_302/A302_2019/miniconda3/bin/p...\n",
      "    flags = sys.flags(debug=0, inspect=0, interactive=0, opt...ation=1, is...\n",
      "    float_info = sys.float_info(max=1.7976931348623157e+308, max_...epsilo...\n",
      "    float_repr_style = 'short'\n",
      "    hash_info = sys.hash_info(width=64, modulus=2305843009213693...iphash2...\n",
      "    hexversion = 50791152\n",
      "    implementation = namespace(_multiarch='darwin', cache_tag='cpytho...in...\n",
      "    int_info = sys.int_info(bits_per_digit=30, sizeof_digit=4)\n",
      "    last_value = NameError(\"name 'sys' is not defined\")\n",
      "    maxsize = 9223372036854775807\n",
      "    maxunicode = 1114111\n",
      "    meta_path = [<class '_frozen_importlib.BuiltinImporter'>, <class '_fro...\n",
      "    modules = {'IPython': <module 'IPython' from '/Users/drft/Desktop/ASTR...\n",
      "    path = ['/Users/drft/Desktop/ASTRO_302/A302_2019/lectures/lecture-02-p...\n",
      "    path_hooks = [<class 'zipimport.zipimporter'>, <function FileFinder.pa...\n",
      "    path_importer_cache = {'/Users/drft/.ipython': FileFinder('/Users/drft...\n",
      "    platform = 'darwin'\n",
      "    prefix = '/Users/drft/Desktop/ASTRO_302/A302_2019/miniconda3'\n",
      "    ps1 = 'In : '\n",
      "    ps2 = '...: '\n",
      "    ps3 = 'Out: '\n",
      "    stderr = <ipykernel.iostream.OutStream object>\n",
      "    stdin = <_io.TextIOWrapper name='<stdin>' mode='r' encoding='UTF-8'>\n",
      "    stdout = <ipykernel.iostream.OutStream object>\n",
      "    thread_info = sys.thread_info(name='pthread', lock='mutex+cond', versi...\n",
      "    version = '3.7.2 (default, Dec 29 2018, 00:00:04) \\n[Clang 4.0.1 (tags...\n",
      "    version_info = sys.version_info(major=3, minor=7, micro=2, releaseleve...\n",
      "    warnoptions = []\n",
      "\n",
      "FILE\n",
      "    (built-in)\n",
      "\n",
      "\n"
     ]
    }
   ],
   "source": [
    "help(sys)"
   ]
  },
  {
   "cell_type": "markdown",
   "metadata": {},
   "source": [
    "Run prog2.py as a commandline program and provide it with a set of arguments. Then try to execute as `execute_and_show('prog2.py 1 2 3 4 5'`"
   ]
  },
  {
   "cell_type": "code",
   "execution_count": 34,
   "metadata": {
    "collapsed": true
   },
   "outputs": [
    {
     "name": "stdout",
     "output_type": "stream",
     "text": [
      "Help on list object:\n",
      "\n",
      "class list(object)\n",
      " |  list(iterable=(), /)\n",
      " |  \n",
      " |  Built-in mutable sequence.\n",
      " |  \n",
      " |  If no argument is given, the constructor creates a new empty list.\n",
      " |  The argument must be an iterable if specified.\n",
      " |  \n",
      " |  Methods defined here:\n",
      " |  \n",
      " |  __add__(self, value, /)\n",
      " |      Return self+value.\n",
      " |  \n",
      " |  __contains__(self, key, /)\n",
      " |      Return key in self.\n",
      " |  \n",
      " |  __delitem__(self, key, /)\n",
      " |      Delete self[key].\n",
      " |  \n",
      " |  __eq__(self, value, /)\n",
      " |      Return self==value.\n",
      " |  \n",
      " |  __ge__(self, value, /)\n",
      " |      Return self>=value.\n",
      " |  \n",
      " |  __getattribute__(self, name, /)\n",
      " |      Return getattr(self, name).\n",
      " |  \n",
      " |  __getitem__(...)\n",
      " |      x.__getitem__(y) <==> x[y]\n",
      " |  \n",
      " |  __gt__(self, value, /)\n",
      " |      Return self>value.\n",
      " |  \n",
      " |  __iadd__(self, value, /)\n",
      " |      Implement self+=value.\n",
      " |  \n",
      " |  __imul__(self, value, /)\n",
      " |      Implement self*=value.\n",
      " |  \n",
      " |  __init__(self, /, *args, **kwargs)\n",
      " |      Initialize self.  See help(type(self)) for accurate signature.\n",
      " |  \n",
      " |  __iter__(self, /)\n",
      " |      Implement iter(self).\n",
      " |  \n",
      " |  __le__(self, value, /)\n",
      " |      Return self<=value.\n",
      " |  \n",
      " |  __len__(self, /)\n",
      " |      Return len(self).\n",
      " |  \n",
      " |  __lt__(self, value, /)\n",
      " |      Return self<value.\n",
      " |  \n",
      " |  __mul__(self, value, /)\n",
      " |      Return self*value.\n",
      " |  \n",
      " |  __ne__(self, value, /)\n",
      " |      Return self!=value.\n",
      " |  \n",
      " |  __repr__(self, /)\n",
      " |      Return repr(self).\n",
      " |  \n",
      " |  __reversed__(self, /)\n",
      " |      Return a reverse iterator over the list.\n",
      " |  \n",
      " |  __rmul__(self, value, /)\n",
      " |      Return value*self.\n",
      " |  \n",
      " |  __setitem__(self, key, value, /)\n",
      " |      Set self[key] to value.\n",
      " |  \n",
      " |  __sizeof__(self, /)\n",
      " |      Return the size of the list in memory, in bytes.\n",
      " |  \n",
      " |  append(self, object, /)\n",
      " |      Append object to the end of the list.\n",
      " |  \n",
      " |  clear(self, /)\n",
      " |      Remove all items from list.\n",
      " |  \n",
      " |  copy(self, /)\n",
      " |      Return a shallow copy of the list.\n",
      " |  \n",
      " |  count(self, value, /)\n",
      " |      Return number of occurrences of value.\n",
      " |  \n",
      " |  extend(self, iterable, /)\n",
      " |      Extend list by appending elements from the iterable.\n",
      " |  \n",
      " |  index(self, value, start=0, stop=9223372036854775807, /)\n",
      " |      Return first index of value.\n",
      " |      \n",
      " |      Raises ValueError if the value is not present.\n",
      " |  \n",
      " |  insert(self, index, object, /)\n",
      " |      Insert object before index.\n",
      " |  \n",
      " |  pop(self, index=-1, /)\n",
      " |      Remove and return item at index (default last).\n",
      " |      \n",
      " |      Raises IndexError if list is empty or index is out of range.\n",
      " |  \n",
      " |  remove(self, value, /)\n",
      " |      Remove first occurrence of value.\n",
      " |      \n",
      " |      Raises ValueError if the value is not present.\n",
      " |  \n",
      " |  reverse(self, /)\n",
      " |      Reverse *IN PLACE*.\n",
      " |  \n",
      " |  sort(self, /, *, key=None, reverse=False)\n",
      " |      Stable sort *IN PLACE*.\n",
      " |  \n",
      " |  ----------------------------------------------------------------------\n",
      " |  Static methods defined here:\n",
      " |  \n",
      " |  __new__(*args, **kwargs) from builtins.type\n",
      " |      Create and return a new object.  See help(type) for accurate signature.\n",
      " |  \n",
      " |  ----------------------------------------------------------------------\n",
      " |  Data and other attributes defined here:\n",
      " |  \n",
      " |  __hash__ = None\n",
      "\n"
     ]
    }
   ],
   "source": [
    "help(sys.argv)"
   ]
  },
  {
   "cell_type": "markdown",
   "metadata": {
    "collapsed": true
   },
   "source": [
    "Discussion:\n",
    "* The basic Python programming language is fairly small ([only 33, as of Python 3.6](https://docs.python.org/3.6/reference/lexical_analysis.html#keywords)). Most of the functionality available through _modules_; libraries of useful routines that come shipped with the language. The `sys` module contains routines to interact with the system; it's also where `sys.argv` variable is, which contains the list of command-line arguments passed to a program.\n",
    "* When we printed it out, we simply passed `sys.argv` (which is a Python `list`) to `print()`, which automatically converted it to a string. We could've made the output prettier by using the [`str.join`](https://docs.python.org/3/library/stdtypes.html#str.join) method."
   ]
  },
  {
   "cell_type": "markdown",
   "metadata": {
    "slideshow": {
     "slide_type": "slide"
    },
    "variables": {
     " execute_and_show('./prog3.py 2 3') ": "<pre><code class=\"cm-s-ipython language-bash\">    $./prog3.py 2 3\n    5.0\n</code></pre>\n"
    }
   },
   "source": [
    "## Problem 3: Add Two Numbers\n",
    "\n",
    "Now modify that code to write sum two command line arguments. For example:\n",
    "{{ execute_and_show('./prog3.py 2 3') }}"
   ]
  },
  {
   "cell_type": "markdown",
   "metadata": {
    "slideshow": {
     "slide_type": "subslide"
    }
   },
   "source": [
    "## Implementation"
   ]
  },
  {
   "cell_type": "code",
   "execution_count": 36,
   "metadata": {
    "scrolled": false
   },
   "outputs": [
    {
     "data": {
      "text/markdown": [
       "```python\n",
       "#!/usr/bin/env python\n",
       "\n",
       "import sys\n",
       "\n",
       "a = float(sys.argv[1])\n",
       "b = float(sys.argv[2])\n",
       "\n",
       "print (a + b)\n",
       "\n",
       "```"
      ],
      "text/plain": [
       "<IPython.core.display.Markdown object>"
      ]
     },
     "execution_count": 36,
     "metadata": {},
     "output_type": "execute_result"
    }
   ],
   "source": [
    "show_code_listing(\"prog3.py\")"
   ]
  },
  {
   "cell_type": "markdown",
   "metadata": {
    "collapsed": true,
    "slideshow": {
     "slide_type": "-"
    }
   },
   "source": [
    "Discussion:\n",
    "* The command line arguments found in `sys.argv` are _strings_ (Python's `str` type). Adding two strings with the `+` operator would just concatenate them; we have to convert them to floating point numbers first using the `float` routine."
   ]
  },
  {
   "cell_type": "markdown",
   "metadata": {
    "slideshow": {
     "slide_type": "slide"
    },
    "variables": {
     " execute_and_show('./prog3.py 2 x') ": "<pre><code class=\"cm-s-ipython language-bash\">    $./prog3.py 2 x\n    Traceback (most recent call last):\n      File &quot;./prog3.py&quot;, line 6, in &lt;module&gt;\n        b = float(sys.argv[2])\n    ValueError: could not convert string to float: &#39;x&#39;\n</code></pre>\n",
     " execute_and_show('./prog4.py 2 x') ": "<pre><code class=\"cm-s-ipython language-bash\">    $./prog4.py 2 x\n    Error: the second argument must be a number\n\n    Usage: ./prog4.py &lt;arg1&gt; &lt;arg2&gt;\n</code></pre>\n",
     " execute_and_show('./prog4.py 2') ": "<pre><code class=\"cm-s-ipython language-bash\">    $./prog4.py 2\n    Error: two arguments required.\n\n    Usage: ./prog4.py &lt;arg1&gt; &lt;arg2&gt;\n</code></pre>\n"
    }
   },
   "source": [
    "## Problem 4: Making the code user friendly\n",
    "\n",
    "When we enter an argument that's not a number:\n",
    "{{ execute_and_show('./prog3.py 2 x') }}\n",
    "It would be nicer to check for the number and type of arguments, and get a user-friendly error message if either are incorrect:\n",
    "{{ execute_and_show('./prog4.py 2 x') }}\n",
    "{{ execute_and_show('./prog4.py 2') }}"
   ]
  },
  {
   "cell_type": "markdown",
   "metadata": {
    "slideshow": {
     "slide_type": "subslide"
    }
   },
   "source": [
    "## Implementation v1"
   ]
  },
  {
   "cell_type": "code",
   "execution_count": 40,
   "metadata": {
    "scrolled": false,
    "slideshow": {
     "slide_type": "-"
    }
   },
   "outputs": [
    {
     "data": {
      "text/markdown": [
       "```python\n",
       "#!/usr/bin/env python\n",
       "\n",
       "import sys\n",
       "import re\n",
       "\n",
       "isNumber = '^[1-9][0-9]*\\.?[0-9]*([Ee][+-]?[0-9]+)?$';\n",
       "\n",
       "if len(sys.argv) != 3:\n",
       "    print(\"Error: two arguments required.\")\n",
       "    print(\"\")\n",
       "    print(\"Usage: {} <arg1> <arg2>\".format(sys.argv[0]))\n",
       "    exit(0)\n",
       "\n",
       "if not re.search(isNumber, sys.argv[1]):\n",
       "    print(\"Error: the first argument must be a number\")\n",
       "    print(\"\")\n",
       "    print(\"Usage: {} <arg1> <arg2>\".format(sys.argv[0]))\n",
       "    exit(0)\n",
       "\n",
       "if not re.search(isNumber, sys.argv[2]):\n",
       "    print(\"Error: the second argument must be a number\")\n",
       "    print(\"\")\n",
       "    print(\"Usage: {} <arg1> <arg2>\".format(sys.argv[0]))\n",
       "    exit(0)\n",
       "\n",
       "a = float(sys.argv[1])\n",
       "b = float(sys.argv[2])\n",
       "\n",
       "print (a + b)\n",
       "\n",
       "```"
      ],
      "text/plain": [
       "<IPython.core.display.Markdown object>"
      ]
     },
     "execution_count": 40,
     "metadata": {},
     "output_type": "execute_result"
    }
   ],
   "source": [
    "show_code_listing(\"prog4.py\")\n",
    "\n",
    "### if its not 3 args, then print error and print what the progam does, and exits the program\n",
    "### if arg 1 not a number, then...\n",
    "### if arg 2 not a number, then...\n",
    "\n",
    "### the 'freeformatter.com' below is a way to test regular expressions for qualified numbers (ie, 1,2,e,pi,etc.)\n",
    "\n",
    "### then does the same code to add the numbers together"
   ]
  },
  {
   "cell_type": "markdown",
   "metadata": {
    "collapsed": true
   },
   "source": [
    "Discussion:\n",
    "* We encounter our first [flow control](https://docs.python.org/3/tutorial/controlflow.html) statement -- `if`. It allows us to choose which path to take based on the result of evaluating a _condition_.\n",
    "* I checked whether there are two arguments by using the `len()` built-in function that returns the length of the list. Note that the `sys.argv` list includes the name of the program; thus testing for `3` instead of `2`.\n",
    "* I used [Python regular expressions](https://docs.python.org/3.4/library/re.html) to check for the format of each string, before attempting to convert them to a floating point number.\n",
    "\n",
    "To learn about and test regular expressions try out the following page [https://www.freeformatter.com/regex-tester.html]"
   ]
  },
  {
   "cell_type": "code",
   "execution_count": 41,
   "metadata": {},
   "outputs": [
    {
     "name": "stdout",
     "output_type": "stream",
     "text": [
      "```bash\n",
      "    $./prog4.py 1.23E-10 10\n",
      "    10.000000000123\n",
      "```\n"
     ]
    }
   ],
   "source": [
    "execute_and_show('./prog4.py 1.23E-10 10')"
   ]
  },
  {
   "cell_type": "markdown",
   "metadata": {},
   "source": [
    "### Group Work:\n",
    "\n",
    "My implementation above has lots of repetition (e.g., the same usage string is printed out three times). We know that functions are a way to avoid excessive repetition. Python functions have the following form:\n",
    "\n",
    "```python\n",
    "def func_name(a, b, c, d):\n",
    "    ... function body ...\n",
    "    return some_value\n",
    "```\n",
    "\n",
    "Let's change my implementation so it minimizes repetition by using functions. Identify repetitive parts and [refactor](https://en.wikipedia.org/wiki/Code_refactoring) them into functions."
   ]
  },
  {
   "cell_type": "markdown",
   "metadata": {
    "slideshow": {
     "slide_type": "subslide"
    }
   },
   "source": [
    "## Implementation v2"
   ]
  },
  {
   "cell_type": "code",
   "execution_count": 43,
   "metadata": {
    "scrolled": false
   },
   "outputs": [
    {
     "data": {
      "text/markdown": [
       "```python\n",
       "#!/usr/bin/env python\n",
       "\n",
       "import sys\n",
       "import re\n",
       "\n",
       "def exit_with_usage():\n",
       "    \"\"\" Prints a usage message and exits the program. \"\"\"\n",
       "    print(\"\")\n",
       "    print(\"Usage: {} <arg1> <arg2>\".format(sys.argv[0]))\n",
       "    exit(0)\n",
       "\n",
       "def number_or_exit(s, msg):\n",
       "    \"\"\" Test if argument s is a number, abort execution otherwise. \"\"\"\n",
       "    isNumber = r'^[1-9][0-9]*\\.?[0-9]*([Ee][+-]?[0-9]+)?$';\n",
       "\n",
       "    if not re.search(isNumber, s):\n",
       "        print(\"Error: the {} argument must be a number\".format(msg))\n",
       "        exit_with_usage()\n",
       "\n",
       "#### The main program begins here\n",
       "\n",
       "if len(sys.argv) != 3:\n",
       "    print(\"Error: two arguments required.\")\n",
       "    exit_with_usage()\n",
       "\n",
       "number_or_exit(sys.argv[1], 'first')\n",
       "number_or_exit(sys.argv[2], 'second')\n",
       "\n",
       "a = float(sys.argv[1])\n",
       "b = float(sys.argv[2])\n",
       "\n",
       "print (a + b)\n",
       "\n",
       "```"
      ],
      "text/plain": [
       "<IPython.core.display.Markdown object>"
      ]
     },
     "execution_count": 43,
     "metadata": {},
     "output_type": "execute_result"
    }
   ],
   "source": [
    "show_code_listing(\"prog5.py\")\n",
    "\n",
    "### use functions instead, for the checks in prog4"
   ]
  },
  {
   "cell_type": "markdown",
   "metadata": {},
   "source": [
    "Discussion:\n",
    "* The previous implementatio had a lot of repeating code. That is a tell-tale sign of code that needs to be [refactored](https://en.wikipedia.org/wiki/Code_refactoring) into functions.\n",
    "* Python function definitions begin with `def`, followed by name, the argument list, and then the indented body of the function."
   ]
  },
  {
   "cell_type": "markdown",
   "metadata": {
    "slideshow": {
     "slide_type": "subslide"
    }
   },
   "source": [
    "## Implementation v3"
   ]
  },
  {
   "cell_type": "code",
   "execution_count": 44,
   "metadata": {
    "scrolled": false
   },
   "outputs": [
    {
     "data": {
      "text/markdown": [
       "```python\n",
       "#!/usr/bin/env python\n",
       "\n",
       "import sys\n",
       "import re\n",
       "\n",
       "def exit_with_usage():\n",
       "    \"\"\" Prints a usage message and exits the program. \"\"\"\n",
       "    print(\"\")\n",
       "    print(\"Usage: {} <arg1> <arg2>\".format(sys.argv[0]))\n",
       "    exit(0)\n",
       "\n",
       "def number_or_exit(s, msg):\n",
       "    \"\"\" Test if argument s is a number, abort execution otherwise. \"\"\"\n",
       "    isNumber = r'^[1-9][0-9]*\\.?[0-9]*([Ee][+-]?[0-9]+)?$';\n",
       "\n",
       "    if not re.search(isNumber, s):\n",
       "        print(\"Error: the {} argument must be a number\".format(msg))\n",
       "        exit_with_usage()\n",
       "\n",
       "#### The main program begins here\n",
       "\n",
       "if len(sys.argv) != 3:\n",
       "    print(\"Error: two arguments required.\")\n",
       "    exit_with_usage()\n",
       "\n",
       "msg = ['first', 'second']\n",
       "for i in range(0, 2):\n",
       "    number_or_exit(sys.argv[i + 1], msg[i])\n",
       "\n",
       "a = float(sys.argv[1])\n",
       "b = float(sys.argv[2])\n",
       "\n",
       "print (a + b)\n",
       "\n",
       "```"
      ],
      "text/plain": [
       "<IPython.core.display.Markdown object>"
      ]
     },
     "execution_count": 44,
     "metadata": {},
     "output_type": "execute_result"
    }
   ],
   "source": [
    "show_code_listing(\"prog6.py\")"
   ]
  },
  {
   "cell_type": "markdown",
   "metadata": {
    "collapsed": true
   },
   "source": [
    "Discussion:\n",
    "* We can further streamline the code by using a `for`-loop. Python for loops iterate over _iterables_ -- a generalization of lists, arrays, and ranges. Think of these objects as sequences that return a value one by one in each iteration of the loop. In this case, we used a `range()` sequence, that returns numbers starting with the first argument, and finishing before the last argument is reached."
   ]
  },
  {
   "cell_type": "markdown",
   "metadata": {
    "slideshow": {
     "slide_type": "subslide"
    }
   },
   "source": [
    "## Implementation v4"
   ]
  },
  {
   "cell_type": "code",
   "execution_count": 45,
   "metadata": {
    "scrolled": false
   },
   "outputs": [
    {
     "data": {
      "text/markdown": [
       "```python\n",
       "#!/usr/bin/env python\n",
       "\n",
       "import sys\n",
       "import re\n",
       "\n",
       "def exit_with_usage():\n",
       "    \"\"\" Prints a usage message and exits the program. \"\"\"\n",
       "    print(\"\")\n",
       "    print(\"Usage: {} <arg1> <arg2>\".format(sys.argv[0]))\n",
       "    exit(0)\n",
       "\n",
       "def number_or_exit(s, msg):\n",
       "    \"\"\" Test if argument s is a number, abort execution otherwise. \"\"\"\n",
       "    isNumber = r'^[1-9][0-9]*\\.?[0-9]*([Ee][+-]?[0-9]+)?$';\n",
       "\n",
       "    if not re.search(isNumber, s):\n",
       "        print(\"Error: the {} argument must be a number\".format(msg))\n",
       "        exit_with_usage()\n",
       "\n",
       "#### The main program begins here\n",
       "\n",
       "if len(sys.argv) != 3:\n",
       "    print(\"Error: two arguments required.\")\n",
       "    exit_with_usage()\n",
       "\n",
       "for (s, msg) in zip(sys.argv[1:], ['first', 'second']):\n",
       "    number_or_exit(s, msg)\n",
       "\n",
       "a = float(sys.argv[1])\n",
       "b = float(sys.argv[2])\n",
       "\n",
       "print (a + b)\n",
       "\n",
       "```"
      ],
      "text/plain": [
       "<IPython.core.display.Markdown object>"
      ]
     },
     "execution_count": 45,
     "metadata": {},
     "output_type": "execute_result"
    }
   ],
   "source": [
    "show_code_listing(\"prog7.py\")"
   ]
  },
  {
   "cell_type": "markdown",
   "metadata": {
    "collapsed": true,
    "slideshow": {
     "slide_type": "subslide"
    }
   },
   "source": [
    "Discussion:\n",
    "* The structure of the `for`-loop in the previous example is familiar to you if you're coming from C or FORTRAN. But it's not a \"Pythonic\" way to do things. In Python, we'd prefer to iterate not over indices of the list, but over the list itself. For example, compare the readability of:\n",
    "\n",
    "```python\n",
    "    arr = ['a', 'b', 'c']\n",
    "    for i in range(0, len(arr)):\n",
    "        print(arr[i])\n",
    "```\n",
    "\n",
    "to\n",
    "\n",
    "```python\n",
    "    arr = ['a', 'b', 'c']\n",
    "    for val in arr:\n",
    "        print(val)\n",
    "```\n",
    "\n",
    "* A difficulty in the example above is that we're actually iterating over _two_ lists, not one. Fortunately, Python's `zip` function will \"zip\" the elements of two lists into pairs."
   ]
  },
  {
   "cell_type": "markdown",
   "metadata": {},
   "source": [
    "## Python Modules to help with argument passing \n",
    "\n",
    "argparse [https://docs.python.org/3.7/howto/argparse.html]\n",
    "\n",
    " - will read in a general set of arguments and enables you to parse them \n",
    " - if you make an error it will exit and return the help string\n",
    " - if you want to know the number of arguments you can pass the `-h` flag to list all of the required arguments\n",
    "\n",
    "```\n",
    "$  ./prog8.py  -h\n",
    "usage: prog8.py [-h] float_1 float_2\n",
    "\n",
    "Read in some entries and add them.\n",
    "\n",
    "positional arguments:\n",
    "  float_1     a float\n",
    "  float_2     another float\n",
    "\n",
    "optional arguments:\n",
    "  -h, --help  show this help message and exit\n",
    "```"
   ]
  },
  {
   "cell_type": "code",
   "execution_count": 47,
   "metadata": {},
   "outputs": [
    {
     "ename": "FileNotFoundError",
     "evalue": "[Errno 2] No such file or directory: 'prog8.py'",
     "output_type": "error",
     "traceback": [
      "\u001b[0;31m---------------------------------------------------------------------------\u001b[0m",
      "\u001b[0;31mFileNotFoundError\u001b[0m                         Traceback (most recent call last)",
      "\u001b[0;32m<ipython-input-47-ae249a98cb47>\u001b[0m in \u001b[0;36m<module>\u001b[0;34m\u001b[0m\n\u001b[0;32m----> 1\u001b[0;31m \u001b[0mshow_code_listing\u001b[0m\u001b[0;34m(\u001b[0m\u001b[0;34m\"prog8.py\"\u001b[0m\u001b[0;34m)\u001b[0m\u001b[0;34m\u001b[0m\u001b[0;34m\u001b[0m\u001b[0m\n\u001b[0m",
      "\u001b[0;32m<ipython-input-19-08f28d8247e6>\u001b[0m in \u001b[0;36mshow_code_listing\u001b[0;34m(fn)\u001b[0m\n\u001b[1;32m      2\u001b[0m \u001b[0;32mdef\u001b[0m \u001b[0mshow_code_listing\u001b[0m\u001b[0;34m(\u001b[0m\u001b[0mfn\u001b[0m\u001b[0;34m)\u001b[0m\u001b[0;34m:\u001b[0m\u001b[0;34m\u001b[0m\u001b[0;34m\u001b[0m\u001b[0m\n\u001b[1;32m      3\u001b[0m     \u001b[0;32mfrom\u001b[0m \u001b[0mIPython\u001b[0m\u001b[0;34m.\u001b[0m\u001b[0mdisplay\u001b[0m \u001b[0;32mimport\u001b[0m \u001b[0mdisplay\u001b[0m\u001b[0;34m,\u001b[0m \u001b[0mMarkdown\u001b[0m\u001b[0;34m\u001b[0m\u001b[0;34m\u001b[0m\u001b[0m\n\u001b[0;32m----> 4\u001b[0;31m     \u001b[0;32mreturn\u001b[0m \u001b[0mMarkdown\u001b[0m\u001b[0;34m(\u001b[0m \u001b[0;34m'```python\\n{}\\n```'\u001b[0m\u001b[0;34m.\u001b[0m\u001b[0mformat\u001b[0m\u001b[0;34m(\u001b[0m\u001b[0mopen\u001b[0m\u001b[0;34m(\u001b[0m\u001b[0mfn\u001b[0m\u001b[0;34m)\u001b[0m\u001b[0;34m.\u001b[0m\u001b[0mread\u001b[0m\u001b[0;34m(\u001b[0m\u001b[0;34m)\u001b[0m\u001b[0;34m)\u001b[0m\u001b[0;34m)\u001b[0m\u001b[0;34m\u001b[0m\u001b[0;34m\u001b[0m\u001b[0m\n\u001b[0m\u001b[1;32m      5\u001b[0m \u001b[0;34m\u001b[0m\u001b[0m\n\u001b[1;32m      6\u001b[0m \u001b[0;31m### take ins commanline (cmdline) and bang(!) or runs it as if it were not in the jupyter notebook but as if it were on the command line\u001b[0m\u001b[0;34m\u001b[0m\u001b[0;34m\u001b[0m\u001b[0;34m\u001b[0m\u001b[0m\n",
      "\u001b[0;31mFileNotFoundError\u001b[0m: [Errno 2] No such file or directory: 'prog8.py'"
     ]
    }
   ],
   "source": [
    "show_code_listing(\"prog8.py\")"
   ]
  },
  {
   "cell_type": "markdown",
   "metadata": {
    "slideshow": {
     "slide_type": "skip"
    }
   },
   "source": [
    "## Reading for Wednesday\n",
    "\n",
    "On Wednesday we're going to talk more about Python dicts, list comprehensions, modules and object oriented programming. **Please skim through these in time for the next class** (it should take you ~2-3 hours):\n",
    "\n",
    "* List comprehensions:\n",
    "  * http://www.secnetix.de/olli/Python/list_comprehensions.hawk\n",
    "  * http://www.pythonforbeginners.com/basics/list-comprehensions-in-python\n",
    "  * http://treyhunner.com/2015/12/python-list-comprehensions-now-in-color/\n",
    "  * Learning Python, Chapter 14\n",
    "\n",
    "\n",
    "* Dictionaries:\n",
    "  * https://www.python-course.eu/dictionaries.php\n",
    "  * http://introtopython.org/dictionaries.html\n",
    "  * Learning Python, Chapter 8\n",
    "\n",
    "\n",
    "* Modules:\n",
    "  * https://docs.python.org/3/tutorial/modules.html\n",
    "  * Learning Python, Chapter 22\n",
    "  * Learning Python, Chapter 23 (through \"Module Usage”).\n",
    "\n",
    "\n",
    "* Python Classes/Objects:\n",
    "  * https://jeffknupp.com/blog/2014/06/18/improve-your-python-python-classes-and-object-oriented-programming/ (you can stop at 'Inheritance' for now)\n",
    "  * Learning Python, Chapter 26\n"
   ]
  },
  {
   "cell_type": "code",
   "execution_count": null,
   "metadata": {},
   "outputs": [],
   "source": []
  }
 ],
 "metadata": {
  "celltoolbar": "Slideshow",
  "kernelspec": {
   "display_name": "Python 3",
   "language": "python",
   "name": "python3"
  },
  "language_info": {
   "codemirror_mode": {
    "name": "ipython",
    "version": 3
   },
   "file_extension": ".py",
   "mimetype": "text/x-python",
   "name": "python",
   "nbconvert_exporter": "python",
   "pygments_lexer": "ipython3",
   "version": "3.7.2"
  },
  "livereveal": {
   "scroll": true,
   "start_slideshow_at": "selected"
  }
 },
 "nbformat": 4,
 "nbformat_minor": 2
}
